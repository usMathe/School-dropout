{
  "nbformat": 4,
  "nbformat_minor": 0,
  "metadata": {
    "colab": {
      "provenance": [],
      "authorship_tag": "ABX9TyO3jZBCUoChShkvejE2JIrH"
    },
    "kernelspec": {
      "name": "python3",
      "display_name": "Python 3"
    },
    "language_info": {
      "name": "python"
    }
  },
  "cells": [
    {
      "cell_type": "markdown",
      "source": [
        "# **Como Carregar um dataset do kaggle direto para o Google Colab**\n",
        "\n",
        "Essas são as etapas para poder carregar qualquer dataset do kaggle direto para o google colab sem a necessidade de instalar. Nesse caso vamos carregar o dataset desse repositório.\n",
        "\n",
        "Antes precisa ir na sua conta do kaggle em \"Settings\", \"API\" e instalar o token.\n",
        "\n",
        "Obs: Pro exemplo abaixo o token precisa estar nomeado como \"kaggle.json\"."
      ],
      "metadata": {
        "id": "6Ji3tAQa73VT"
      }
    },
    {
      "cell_type": "markdown",
      "source": [
        "#**Passos Comentados**\n",
        "\n",
        "O codigo abre uma janela para fazer upload de arquivos diretamente do computador para o Google Colab."
      ],
      "metadata": {
        "id": "SIKzl4hQ_r-Y"
      }
    },
    {
      "cell_type": "code",
      "execution_count": null,
      "metadata": {
        "id": "hal05CXx9bod"
      },
      "outputs": [],
      "source": [
        "from google.colab import files\n",
        "\n",
        "files.upload()"
      ]
    },
    {
      "cell_type": "markdown",
      "source": [
        "Instala silenciosamente a biblioteca Kaggle para acesso à API no Colab."
      ],
      "metadata": {
        "id": "xupNkAakARUP"
      }
    },
    {
      "cell_type": "code",
      "source": [
        "pip install kaggle -q"
      ],
      "metadata": {
        "id": "cJP32wbB-EYz"
      },
      "execution_count": null,
      "outputs": []
    },
    {
      "cell_type": "markdown",
      "source": [
        "!mkdir -p ~/.kaggle: Cria um diretório oculto chamado .kaggle no diretório home do usuário, caso ainda não exista.\n",
        "\n",
        "!mv kaggle.json ~/.kaggle/: Move o arquivo kaggle.json (contendo as credenciais da API do Kaggle) para o diretório .kaggle"
      ],
      "metadata": {
        "id": "kmSJEY9WAjnn"
      }
    },
    {
      "cell_type": "code",
      "source": [
        "!mkdir -p ~/.kaggle\n",
        "!mv kaggle.json ~/.kaggle/"
      ],
      "metadata": {
        "id": "ELB84TgL_-t3"
      },
      "execution_count": null,
      "outputs": []
    },
    {
      "cell_type": "markdown",
      "source": [
        "Define permissões de segurança para que apenas o proprietário possa ler e escrever no arquivo kaggle.json."
      ],
      "metadata": {
        "id": "HpCvVwo9A8m4"
      }
    },
    {
      "cell_type": "code",
      "source": [
        "!chmod 600 ~/.kaggle/kaggle.json\n"
      ],
      "metadata": {
        "id": "jIszQH3iBn7s"
      },
      "execution_count": null,
      "outputs": []
    },
    {
      "cell_type": "markdown",
      "source": [
        " Muda o diretório de trabalho atual para /content/, o diretório padrão no Google Colab. E depois baixa o conjunto de dados específico do Kaggle usando a API."
      ],
      "metadata": {
        "id": "UwD_7PhgBHmu"
      }
    },
    {
      "cell_type": "code",
      "source": [
        "%cd /content/\n",
        "\n",
        "!kaggle datasets download -d marouandaghmoumi/dropout-and-success-student-data-analysis"
      ],
      "metadata": {
        "id": "9h1jsH5sBzg5"
      },
      "execution_count": null,
      "outputs": []
    },
    {
      "cell_type": "markdown",
      "source": [
        "Descompacta o arquivo ZIP do conjunto de dados baixado na pasta /content/."
      ],
      "metadata": {
        "id": "o5Dmo_9DBbns"
      }
    },
    {
      "cell_type": "code",
      "source": [
        "!unzip /content/dropout-and-success-student-data-analysis.zip"
      ],
      "metadata": {
        "id": "oCLX2lIyEBOE"
      },
      "execution_count": null,
      "outputs": []
    },
    {
      "cell_type": "markdown",
      "source": [
        "Pronto apartir daqui o dataset esta pronto para suas análises.🤤"
      ],
      "metadata": {
        "id": "mHRqcab9Bncr"
      }
    }
  ]
}